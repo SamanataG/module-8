{
 "cells": [
  {
   "cell_type": "markdown",
   "id": "31a76426",
   "metadata": {},
   "source": [
    "## PROOFS\n",
    "\n",
    "Samanata Silwal \n",
    "\n",
    "274779\n",
    "\n",
    "CPSMA-3913-01\n",
    "\n",
    "Module 8 (Final Project)\n",
    "\n",
    "Dr. Matthew Lynam"
   ]
  },
  {
   "cell_type": "markdown",
   "id": "3aa7a3cd",
   "metadata": {},
   "source": [
    "1. Typeset a small proof\n",
    "\n",
    "(a) Create a linear equation y = mx+b by assigning non-zero values to m and b. Graph this function.\n",
    "(b) Write a proof of the statement\n",
    "(0, b) is the y-intercept for the function y = mx + b\n",
    "\n",
    "2. Be sure to comment on the following:\n",
    "(a) Describe your findings in words.\n",
    "(b) Discuss the steps in your proof. Remember finding a value is different from proving that value\n",
    "works."
   ]
  },
  {
   "cell_type": "code",
   "execution_count": 1,
   "id": "68a3e28f",
   "metadata": {
    "scrolled": true
   },
   "outputs": [
    {
     "data": {
      "image/png": "[encoded data removed]",
      "text/plain": [
       "<Figure size 432x288 with 1 Axes>"
      ]
     },
     "metadata": {
      "needs_background": "light"
     },
     "output_type": "display_data"
    }
   ],
   "source": [
    "# Given the independent variable values, x\n",
    "equa = 20\n",
    "x = [x for x in range(1,equa+1)]\n",
    "\n",
    "# Giving values for m and b\n",
    "m = 3\n",
    "b = 7\n",
    "\n",
    "# Assess the values of the dependent variable, y\n",
    "y = [m*y+b for y in x]\n",
    "\n",
    "# Import matplotlib.pyplot for plotting\n",
    "from matplotlib import pyplot as plt\n",
    "\n",
    "# Ploting y against x\n",
    "plt.plot(x,y)\n",
    "\n",
    "# Adding the title, x Label and y label for the plot\n",
    "plt.xlabel(\"Independent variable / x\")\n",
    "plt.ylabel(\"Dependent variable / y\")\n",
    "plt.title(\"y = mx + b\")\n",
    "\n",
    "# Ploting the graph\n",
    "plt.show()"
   ]
  },
  {
   "cell_type": "markdown",
   "id": "464ef522",
   "metadata": {},
   "source": [
    "The y-intercept for the function y = mx + b is (0, b).\n",
    "\n",
    "The y-intercept of the function y = mx + b is given by the statement (0, b).\n",
    "\n",
    "\n",
    "Proof:\n",
    "\n",
    "    It is assumed that (0,b). As a result, the x coordinate is 0 and the y coordinate is b. When the x coordinate is equal to zero. The y intercept will be represented by the y coordinate, which is shown below. y = mx + b when x = 0.\n",
    "y = m0 + b because m*0 = 0 y = 0 + b b + 0 = 0\\s   y = b \n",
    "    \n",
    "    As a result, the function's y intercept coordinate will be (0,b)."
   ]
  }
 ],
 "metadata": {
  "kernelspec": {
   "display_name": "Python 3 (ipykernel)",
   "language": "python",
   "name": "python3"
  },
  "language_info": {
   "codemirror_mode": {
    "name": "ipython",
    "version": 3
   },
   "file_extension": ".py",
   "mimetype": "text/x-python",
   "name": "python",
   "nbconvert_exporter": "python",
   "pygments_lexer": "ipython3",
   "version": "3.9.12"
  }
 },
 "nbformat": 4,
 "nbformat_minor": 5
}
